{
 "cells": [
  {
   "cell_type": "code",
   "execution_count": 1,
   "id": "80ecb14c-366e-49e6-aeca-e707b26f81a2",
   "metadata": {},
   "outputs": [],
   "source": [
    "import numpy as np\n",
    "import matplotlib.pyplot as plt\n",
    "from scipy.optimize import differential_evolution\n",
    "from scipy.optimize import least_squares\n",
    "import pandas as pd\n",
    "import random"
   ]
  },
  {
   "cell_type": "code",
   "execution_count": 2,
   "id": "1c5e6afa-8e60-4903-8c5e-95f9c2ea0f56",
   "metadata": {},
   "outputs": [
    {
     "name": "stdout",
     "output_type": "stream",
     "text": [
      "   Battery Voltage(V)  Battery Current(A)  SoC(%)\n",
      "0               420.6                0.29      74\n",
      "1               420.6                0.29      74\n",
      "2               420.6                0.29      74\n",
      "3               420.8               -0.04      74\n",
      "4               420.8                0.00      74\n"
     ]
    }
   ],
   "source": [
    "# Load the Excel file\n",
    "file_path = \"data_v2_02_11_to_05_10.xlsx\"\n",
    "df = pd.read_excel(file_path, usecols=[\"SoC(%)\", \"Battery Current(A)\", \"Battery Voltage(V)\"])\n",
    "\n",
    "# Display the first few rows to identify columns\n",
    "print(df.head())"
   ]
  },
  {
   "cell_type": "code",
   "execution_count": 3,
   "id": "6601e923-fe7a-4b16-9965-032d77fb239a",
   "metadata": {},
   "outputs": [],
   "source": [
    "def R1(a, soc, rr):\n",
    "    return (a[0] + a[1]*rr + a[2]*(rr**2)) * np.exp(-a[3]*soc) + (a[4] + a[5]*rr + a[6]*(rr**2))\n",
    "\n",
    "def R2(a, soc, rr):\n",
    "    return (a[7] + a[8]*rr + a[9]*(rr**2)) * np.exp(-a[10]*soc) + (a[11] + a[12]*rr + a[13]*(rr**2))\n",
    "\n",
    "def C1(a, soc, rr):\n",
    "    term1 = (a[14] + a[15]*rr + a[16]*(rr**2)) * np.exp(-a[17]*soc)\n",
    "    term2 = (a[18] + a[19]*soc + a[20]*(rr**2))\n",
    "    return -(term1 + term2)\n",
    "\n",
    "def V0(a, soc, rr):\n",
    "    return (a[21] + a[22]*rr + a[23]*(rr**2)) * np.exp(-a[24]*soc) + (a[25] + a[26]*soc + a[27]*(soc**2) + a[28]*(soc**3)) - a[29]*rr + a[30]*(rr**2)"
   ]
  },
  {
   "cell_type": "code",
   "execution_count": 4,
   "id": "1ca134d4-2738-4dac-b26f-c6728040717f",
   "metadata": {},
   "outputs": [],
   "source": [
    "def terminal_voltage_charge(I, t, R1, R2, C1, V0):\n",
    "    return ((1 + I*R2) * np.exp(-t / (R2 * C1))) + V0 - (I*(R1 + R2))\n",
    "\n",
    "def terminal_voltage_discharge(Q, I, t, R1, R2, C1, V0):\n",
    "    return ((1 + I*R2) * np.exp(-t / (R2 * C1))) + V0 - (I*(R1 + R2))"
   ]
  },
  {
   "cell_type": "code",
   "execution_count": 5,
   "id": "9262e506-a8d6-42be-a629-1223aedc32ed",
   "metadata": {},
   "outputs": [],
   "source": [
    "def capacity_loss(Q, C_rate, D_rate, Ec, Ed, A, B, C, D, T, R=8.314):\n",
    "    return Q * (\n",
    "        A * np.exp(-C * C_rate * Ec / (R * T)) +\n",
    "        B * np.exp(-D * D_rate * Ed / (R * T))\n",
    "    )"
   ]
  },
  {
   "cell_type": "code",
   "execution_count": 6,
   "id": "49131d2a-ce1b-42b2-80e8-f13666cc87a8",
   "metadata": {},
   "outputs": [],
   "source": [
    "# def fitness_voltage(params, measured, rr, soc, Q, I, t):\n",
    "#     R1 = R1_charging(rr, soc, params)\n",
    "#     R2 = R2_charging(rr, soc, params)\n",
    "#     C1 = C1_charging(rr, soc, params)\n",
    "#     V0 = V0_charging(rr, soc, params)\n",
    "#     V_calc = terminal_voltage_charge(Q, I, t, R1, R2, C1, V0)\n",
    "#     return abs(V_calc - measured)"
   ]
  },
  {
   "cell_type": "code",
   "execution_count": 7,
   "id": "8afb696a-0b04-49be-bd26-e991ac9a7f5a",
   "metadata": {},
   "outputs": [],
   "source": [
    "def objective_function(params, df, is_charge=True):\n",
    "    error = 0\n",
    "    t = 1\n",
    "    for _, row in df.iterrows():\n",
    "        x = row[\"SoC\"] #if is_charge else row[\"DOD\"]\n",
    "        rr = row[\"C_rate\"] #if is_charge else row[\"D_rate\"]\n",
    "        I = row[\"Battery Current(A)\"]\n",
    "        if I < 0:\n",
    "            t = 1\n",
    "        else:\n",
    "            t += 300\n",
    "\n",
    "        p = compute_params(x, rr, params)\n",
    "        predicted_v = terminal_voltage_charge(I, t, p[\"R1\"], p[\"R2\"], p[\"C1\"], p[\"V0\"])\n",
    "        error += (row[\"Battery Voltage(V)\"] - predicted_v)**2\n",
    "    return error\n",
    "\n",
    "# Compute resistance, capacitance, and voltage model\n",
    "def compute_params(soc, rr, params):\n",
    "    return {\n",
    "        \"R1\": R1(a=params, soc=soc, rr=rr),\n",
    "        \"R2\": R2(a=params, soc=soc, rr=rr),\n",
    "        \"C1\": C1(a=params, soc=soc, rr=rr),\n",
    "        \"V0\": V0(a=params, soc=soc, rr=rr)\n",
    "    }"
   ]
  },
  {
   "cell_type": "code",
   "execution_count": 8,
   "id": "3200a2af-7f0c-4744-8c9d-69f99f79a31b",
   "metadata": {},
   "outputs": [],
   "source": [
    "# Genetic Algorithm (GA)\n",
    "class GeneticAlgorithm:\n",
    "    def __init__(self, pop_size=100, generations=50, mutation_rate=0.1):\n",
    "        self.pop_size = pop_size\n",
    "        self.generations = generations\n",
    "        self.mutation_rate = mutation_rate\n",
    "\n",
    "    def initialize_population(self):\n",
    "        return [np.random.uniform(0.001, 1.0, 31) for _ in range(self.pop_size)]\n",
    "\n",
    "    def evaluate(self, population, df, is_charge):\n",
    "        return [objective_function(ind, df, is_charge) for ind in population]\n",
    "\n",
    "    def select_parents(self, population, fitness):\n",
    "        sorted_indices = np.argsort(fitness)\n",
    "        return [population[i] for i in sorted_indices[:len(population)//2]]\n",
    "\n",
    "    def crossover(self, parents):\n",
    "        children = []\n",
    "        while len(children) + len(parents) < self.pop_size:\n",
    "            p1, p2 = random.sample(parents, 2)\n",
    "            pt = random.randint(0, len(p1) - 1)\n",
    "            child = np.maximum(np.concatenate([p1[:pt], p2[pt:]]), 0)\n",
    "            children.append(child)\n",
    "        return parents + children\n",
    "\n",
    "    def mutate(self, population):\n",
    "        for ind in population:\n",
    "            if random.random() < self.mutation_rate:\n",
    "                i = random.randint(0, len(ind) - 1)\n",
    "                ind[i] = max(0, ind[i] + np.random.normal(0, 0.1))\n",
    "        return population\n",
    "\n",
    "    def optimize(self, df, is_charge=True):\n",
    "        population = self.initialize_population()\n",
    "        for _ in range(self.generations):\n",
    "            fitness = self.evaluate(population, df, is_charge)\n",
    "            parents = self.select_parents(population, fitness)\n",
    "            population = self.crossover(parents)\n",
    "            population = self.mutate(population)\n",
    "        return min(population, key=lambda x: objective_function(x, df, is_charge))"
   ]
  },
  {
   "cell_type": "code",
   "execution_count": 9,
   "id": "294ac47a-945d-4e12-aed2-75809fbeac6e",
   "metadata": {
    "scrolled": true
   },
   "outputs": [
    {
     "name": "stderr",
     "output_type": "stream",
     "text": [
      "/tmp/ipykernel_24825/1112334122.py:5: SettingWithCopyWarning: \n",
      "A value is trying to be set on a copy of a slice from a DataFrame.\n",
      "Try using .loc[row_indexer,col_indexer] = value instead\n",
      "\n",
      "See the caveats in the documentation: https://pandas.pydata.org/pandas-docs/stable/user_guide/indexing.html#returning-a-view-versus-a-copy\n",
      "  charging_df[\"C_rate\"] = df[\"Battery Current(A)\"].abs() / 100.0\n",
      "/tmp/ipykernel_24825/1112334122.py:7: SettingWithCopyWarning: \n",
      "A value is trying to be set on a copy of a slice from a DataFrame.\n",
      "Try using .loc[row_indexer,col_indexer] = value instead\n",
      "\n",
      "See the caveats in the documentation: https://pandas.pydata.org/pandas-docs/stable/user_guide/indexing.html#returning-a-view-versus-a-copy\n",
      "  charging_df[\"SoC\"] = df[\"SoC(%)\"] / 100\n"
     ]
    }
   ],
   "source": [
    "charging_df = df[df[\"Battery Current(A)\"] > 0]\n",
    "discharging_df = df[df[\"Battery Current(A)\"] < 0]\n",
    "\n",
    "# Compute C-rate (for both charging and discharging as absolute value)\n",
    "charging_df[\"C_rate\"] = df[\"Battery Current(A)\"].abs() / 100.0\n",
    "# Scale SoC values to range 0-1\n",
    "charging_df[\"SoC\"] = df[\"SoC(%)\"] / 100\n",
    "\n",
    "charging_voltages = charging_df.groupby(\"SoC\")[\"Battery Voltage(V)\"].mean()\n",
    "\n",
    "# rating_capacity = 100\n",
    "# soc_raw = df[\"SoC(%)\"]\n",
    "# df[\"SOC_scaled\"] = soc_raw / 100.0\n",
    "# max_voltage_per_soc = df.groupby(\"SOC_scaled\")[\"Battery Voltage(V)\"].max()\n",
    "# soc_values = df[\"SOC_scaled\"].values\n",
    "# charge_rate_array = measured_currents/rating_capacity\n",
    "\n",
    "# battery_capacity = 100.0  # in Ah\n",
    "# Q = battery_capacity\n"
   ]
  },
  {
   "cell_type": "code",
   "execution_count": 10,
   "id": "09fe88b0-1a4f-41bf-a470-6d6aae82e208",
   "metadata": {
    "scrolled": true
   },
   "outputs": [
    {
     "name": "stderr",
     "output_type": "stream",
     "text": [
      "/tmp/ipykernel_24825/2533664784.py:15: RuntimeWarning: overflow encountered in scalar power\n",
      "  error += (row[\"Battery Voltage(V)\"] - predicted_v)**2\n",
      "/tmp/ipykernel_24825/3510987557.py:2: RuntimeWarning: overflow encountered in exp\n",
      "  return ((1 + I*R2) * np.exp(-t / (R2 * C1))) + V0 - (I*(R1 + R2))\n",
      "/tmp/ipykernel_24825/3510987557.py:2: RuntimeWarning: overflow encountered in scalar multiply\n",
      "  return ((1 + I*R2) * np.exp(-t / (R2 * C1))) + V0 - (I*(R1 + R2))\n"
     ]
    },
    {
     "name": "stdout",
     "output_type": "stream",
     "text": [
      "Optimized Parameters (GA): [0.7282047  0.16183686 0.84121736 0.7930764  0.2610939  0.6958877\n",
      " 0.02914743 0.17340796 0.24969917 0.61328337 0.21286529 0.79664483\n",
      " 0.5120266  0.69495596 0.04110037 0.84346847 0.68769207 0.5439095\n",
      " 0.62209332 0.96892407 0.84471082 0.64439961 0.80143305 0.18164603\n",
      " 0.40108012 0.53225573 0.48556842 0.93218493 0.06418224 0.3453755\n",
      " 0.8564503 ]\n"
     ]
    }
   ],
   "source": [
    "# Running GA\n",
    "ga_optimizer = GeneticAlgorithm()\n",
    "best_params_ga = ga_optimizer.optimize(charging_df, is_charge=True)\n",
    "print(\"Optimized Parameters (GA):\", best_params_ga)"
   ]
  },
  {
   "cell_type": "code",
   "execution_count": 11,
   "id": "94814835-04d8-446c-8c0d-d6dc4dea0c43",
   "metadata": {},
   "outputs": [
    {
     "name": "stderr",
     "output_type": "stream",
     "text": [
      "/tmp/ipykernel_24825/254400894.py:2: SettingWithCopyWarning: \n",
      "A value is trying to be set on a copy of a slice from a DataFrame.\n",
      "Try using .loc[row_indexer,col_indexer] = value instead\n",
      "\n",
      "See the caveats in the documentation: https://pandas.pydata.org/pandas-docs/stable/user_guide/indexing.html#returning-a-view-versus-a-copy\n",
      "  charging_df[\"Predicted Voltage\"] = charging_df.apply(\n"
     ]
    }
   ],
   "source": [
    "# Compute predictions for charging and discharging\n",
    "charging_df[\"Predicted Voltage\"] = charging_df.apply(\n",
    "    lambda row: terminal_voltage_charge(\n",
    "        I=row[\"Battery Current(A)\"],\n",
    "        t=1,\n",
    "        **compute_params(row[\"SoC\"], row[\"C_rate\"], best_params_ga)\n",
    "    ),\n",
    "    axis=1\n",
    ")\n",
    "\n",
    "# discharging_predictions = [\n",
    "#     terminal_voltage_discharge(Q=100.0, I=row[\"Battery Current(A)\"], t=1, **compute_params(row[\"SoC(%)\"], 1.0, best_params_ga))\n",
    "#     for _, row in discharging_df.iterrows()\n",
    "# ]"
   ]
  },
  {
   "cell_type": "code",
   "execution_count": 12,
   "id": "afb644c4-5781-43ce-b8e8-baf39f3e3004",
   "metadata": {},
   "outputs": [
    {
     "data": {
      "image/png": "[encoded data removed]",
      "text/plain": [
       "<Figure size 800x500 with 1 Axes>"
      ]
     },
     "metadata": {},
     "output_type": "display_data"
    }
   ],
   "source": [
    "predicted_voltage = charging_df.groupby(\"SoC\")[\"Predicted Voltage\"].mean()\n",
    "\n",
    "# Create Charging Voltage Plot\n",
    "plt.figure(figsize=(8, 5))\n",
    "plt.scatter(predicted_voltage.index, predicted_voltage.values, color='black', label=\"Predicted Charging Voltage\", alpha=0.7)\n",
    "plt.plot(charging_voltages.index, charging_voltages.values, marker='o', linestyle='-', label=\"Charging Voltage\", color='blue')\n",
    "plt.xlabel(\"State of Charge (SoC)\")\n",
    "plt.ylabel(\"Voltage (V)\")\n",
    "plt.title(\"Charging Voltage vs. SoC\")\n",
    "plt.legend()\n",
    "plt.grid(True)\n",
    "plt.show()"
   ]
  },
  {
   "cell_type": "code",
   "execution_count": 13,
   "id": "65ab13b9-96c6-406a-be62-c7581fa6c5dc",
   "metadata": {},
   "outputs": [],
   "source": [
    "# # Discharging Voltage Plot (SoC 100 → 0)\n",
    "# plt.figure(figsize=(8, 5))\n",
    "# plt.scatter(discharging_df[\"SoC(%)\"], discharging_predictions, color='black', label=\"Predicted Discharging Voltage\", alpha=0.7)\n",
    "# plt.plot(discharging_voltages.index.sort_values(ascending=False), discharging_voltages.values, marker='s', linestyle='-', label=\"Discharging Voltage\", color='red')\n",
    "# plt.xlabel(\"State of Charge (SoC %)\")\n",
    "# plt.ylabel(\"Voltage (V)\")\n",
    "# plt.title(\"Discharging Voltage vs. SoC (Reversed)\")\n",
    "# plt.legend()\n",
    "# plt.grid(True)\n",
    "# plt.show()"
   ]
  },
  {
   "cell_type": "code",
   "execution_count": null,
   "id": "d01be99a-9d6e-47ea-bdd4-1bef28928a44",
   "metadata": {},
   "outputs": [],
   "source": []
  }
 ],
 "metadata": {
  "kernelspec": {
   "display_name": "Python 3 (ipykernel)",
   "language": "python",
   "name": "python3"
  },
  "language_info": {
   "codemirror_mode": {
    "name": "ipython",
    "version": 3
   },
   "file_extension": ".py",
   "mimetype": "text/x-python",
   "name": "python",
   "nbconvert_exporter": "python",
   "pygments_lexer": "ipython3",
   "version": "3.13.3"
  }
 },
 "nbformat": 4,
 "nbformat_minor": 5
}
