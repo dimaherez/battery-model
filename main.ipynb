{
 "cells": [
  {
   "cell_type": "code",
   "execution_count": null,
   "id": "20cb22ab",
   "metadata": {},
   "outputs": [],
   "source": [
    "import numpy as np\n",
    "import matplotlib.pyplot as plt\n",
    "from battery_model import BatteryModel\n",
    "from data import DataProvider\n",
    "from GA import GeneticAlgorithm\n",
    "from sklearn.metrics import r2_score\n",
    "from scipy.optimize import least_squares\n"
   ]
  },
  {
   "cell_type": "code",
   "execution_count": null,
   "id": "5c338519",
   "metadata": {},
   "outputs": [],
   "source": [
    "battery_model = BatteryModel()"
   ]
  },
  {
   "cell_type": "code",
   "execution_count": null,
   "id": "51f85677",
   "metadata": {},
   "outputs": [],
   "source": [
    "data_provider = DataProvider()\n",
    "df = data_provider.read_excel()"
   ]
  },
  {
   "cell_type": "code",
   "execution_count": null,
   "id": "1f700eb1",
   "metadata": {},
   "outputs": [],
   "source": [
    "df = data_provider.scale_data(df)\n",
    "df.head()"
   ]
  },
  {
   "cell_type": "code",
   "execution_count": null,
   "id": "b0c960c2",
   "metadata": {},
   "outputs": [],
   "source": [
    "optimal_params = battery_model.get_optimal_ABCD_params()\n",
    "A_opt, B_opt, C_opt, D_opt = optimal_params.x\n",
    "\n",
    "print(f\"Optimized C Value: {C_opt:.4f}\")\n",
    "\n",
    "plt.figure(figsize=(8, 5))\n",
    "plt.scatter(battery_model.cycles, battery_model.capacity, label=\"Measured Data\", color=\"red\")\n",
    "plt.plot(battery_model.cycles, battery_model.degradation_model(optimal_params.x, battery_model.cycles), label=\"Fitted Model\", linestyle=\"--\")\n",
    "plt.xlabel(\"Cycle Count\")\n",
    "plt.ylabel(\"Remaining Capacity (%)\")\n",
    "plt.legend()\n",
    "plt.title(\"Battery Degradation Model Fit\")\n",
    "plt.grid()\n",
    "plt.show()"
   ]
  },
  {
   "cell_type": "code",
   "execution_count": null,
   "id": "a48190e5",
   "metadata": {},
   "outputs": [],
   "source": [
    "def objective_function(params, df, C, isCharging):\n",
    "    predicted_vals = []\n",
    "    true_vals = []\n",
    "\n",
    "    for _, row in df.iterrows():\n",
    "        soc = row[\"SoC\"]\n",
    "        I = row[\"Battery Current(A)\"]\n",
    "        t = row[\"time_diff_sec\"]\n",
    "\n",
    "        predicted_v = battery_model.terminal_voltage(I, t, C, params, soc, isCharging)\n",
    "        predicted_vals.append(predicted_v)\n",
    "        true_vals.append(row[\"Battery Voltage(V)\"])\n",
    "\n",
    "    predicted_vals = np.array(predicted_vals)\n",
    "    true_vals = np.array(true_vals)\n",
    "\n",
    "    mse = np.mean((true_vals - predicted_vals) ** 2)\n",
    "\n",
    "    #penalize error spread instead of raw prediction variance\n",
    "    errors = true_vals - predicted_vals\n",
    "    spread_penalty = np.var(errors)\n",
    "    alpha = 0.5\n",
    "\n",
    "    return mse + alpha * spread_penalty"
   ]
  },
  {
   "cell_type": "code",
   "execution_count": null,
   "id": "4d814a0b",
   "metadata": {},
   "outputs": [],
   "source": [
    "def plot(measured_df, predicted_df, isCharging):\n",
    "    plt.figure(figsize=(15, 5))\n",
    "\n",
    "    plt.plot(\n",
    "        measured_df[\"SoC\"], \n",
    "        measured_df[\"Battery Voltage(V)\"], \n",
    "        marker='o', \n",
    "        linestyle='-', \n",
    "        label=\"Mean Voltage\", \n",
    "        color='blue'\n",
    "    )\n",
    "\n",
    "    plt.plot(\n",
    "        measured_df[\"SoC\"], \n",
    "        predicted_df, \n",
    "        color='black',\n",
    "        marker='o', \n",
    "        linestyle='-',\n",
    "        label=\"Predicted Voltage\", \n",
    "        alpha=0.5\n",
    "    )\n",
    "\n",
    "    plt.xlabel(\"State of Charge (SoC)\")\n",
    "    plt.ylabel(\"Voltage (V)\")\n",
    "    plt.title(\"Voltage vs. SoC\")\n",
    "    plt.legend()\n",
    "    plt.grid(True)\n",
    "\n",
    "    if isCharging == False:\n",
    "        # Reverse the x-axis to display from 1 to 0\n",
    "        plt.gca().invert_xaxis()\n",
    "\n",
    "    plt.tight_layout()\n",
    "    plt.show()"
   ]
  },
  {
   "cell_type": "code",
   "execution_count": null,
   "id": "3db16928",
   "metadata": {},
   "outputs": [],
   "source": [
    "charging_df = data_provider.get_charging_data(df)\n",
    "charging_df.head(100)\n"
   ]
  },
  {
   "cell_type": "code",
   "execution_count": null,
   "id": "08d32b6c",
   "metadata": {},
   "outputs": [],
   "source": [
    "plt.figure(figsize=(8, 5))\n",
    "\n",
    "plt.scatter(\n",
    "        charging_df[\"SoC\"], \n",
    "        charging_df[\"Battery Voltage(V)\"], \n",
    "        marker='o',  \n",
    "        color='blue'\n",
    "    )\n",
    "plt.legend()\n",
    "plt.grid(True)\n",
    "plt.tight_layout()\n",
    "plt.show()"
   ]
  },
  {
   "cell_type": "code",
   "execution_count": null,
   "id": "930d7e40",
   "metadata": {},
   "outputs": [],
   "source": [
    "discharging_df = data_provider.get_discharging_data(df)\n",
    "discharging_df.head(100)"
   ]
  },
  {
   "cell_type": "code",
   "execution_count": null,
   "id": "7375f2b0",
   "metadata": {},
   "outputs": [],
   "source": [
    "actual_voltages_charging = charging_df[\"Battery Voltage(V)\"]\n",
    "actual_voltages_discharging = discharging_df[\"Battery Voltage(V)\"]"
   ]
  },
  {
   "cell_type": "code",
   "execution_count": null,
   "id": "47718623",
   "metadata": {},
   "outputs": [],
   "source": [
    "initial_guess = np.array([\n",
    "    6.05930148e-01, 1.89934042e-02, 6.34897039e-02, 5.80786935e+00,\n",
    "    0.00000000e+00, 0.00000000e+00, 1.15731001e-03, 4.34165757e-02,\n",
    "    2.84167937e-02, 2.83527549e-02, 5.62665077e+00, 0.00000000e+00,\n",
    "    0.00000000e+00, 0.00000000e+00, 5.51815757e-01, 2.42309081e-02,\n",
    "    7.38624760e-01, 8.56317765e-01, 1.55241002e-01, 4.10597812e-01,\n",
    "    1.11276142e+00, 9.92462681e+00, 1.03530424e+01, 9.73174738e+00,\n",
    "    4.95873543e-02, 1.09445309e+01, 4.15273779e+00, 9.70293078e-02,\n",
    "    0.00000000e+00, 2.09624137e-01, 1.15631552e+01\n",
    "])\n",
    "# initial_guess = np.random.uniform(0.01, 1.0, 31)"
   ]
  },
  {
   "cell_type": "code",
   "execution_count": null,
   "id": "17d45d3f",
   "metadata": {},
   "outputs": [],
   "source": [
    "# Running LSM for charging\n",
    "\n",
    "result_lsm = least_squares(objective_function, initial_guess, args=(charging_df, C_opt, True), bounds=(0, np.inf))\n",
    "best_params_lsm_charging = result_lsm.x\n",
    "\n",
    "print(\"Optimized Parameters (LSM):\", best_params_lsm_charging)"
   ]
  },
  {
   "cell_type": "code",
   "execution_count": null,
   "id": "67ab75d6",
   "metadata": {},
   "outputs": [],
   "source": [
    "predicted_voltages_lsm_charging = battery_model.get_predicted_voltages(charging_df, C_opt, best_params_lsm_charging, isCharging=True)"
   ]
  },
  {
   "cell_type": "code",
   "execution_count": null,
   "id": "b156c590",
   "metadata": {},
   "outputs": [],
   "source": [
    "r2 = r2_score(actual_voltages_charging, predicted_voltages_lsm_charging)\n",
    "print(f\"Coefficient of Determination (R²): {r2:.4f}\")"
   ]
  },
  {
   "cell_type": "code",
   "execution_count": null,
   "id": "0f62e437",
   "metadata": {},
   "outputs": [],
   "source": [
    "plot(charging_df, predicted_voltages_lsm_charging, isCharging=True)"
   ]
  },
  {
   "cell_type": "code",
   "execution_count": null,
   "id": "57cc5871",
   "metadata": {},
   "outputs": [],
   "source": [
    "# Running LSM for discharging\n",
    "result_lsm = least_squares(objective_function, initial_guess, args=(discharging_df, C_opt, False), bounds=(0, np.inf))\n",
    "best_params_lsm_discharging = result_lsm.x\n",
    "\n",
    "print(\"Optimized Parameters (LSM):\", best_params_lsm_discharging)"
   ]
  },
  {
   "cell_type": "code",
   "execution_count": null,
   "id": "0ef3102e",
   "metadata": {},
   "outputs": [],
   "source": [
    "predicted_voltages_lsm_discharging = battery_model.get_predicted_voltages(discharging_df, C_opt, best_params_lsm_discharging, isCharging=False)"
   ]
  },
  {
   "cell_type": "code",
   "execution_count": null,
   "id": "c2dd7372",
   "metadata": {},
   "outputs": [],
   "source": [
    "r2 = r2_score(actual_voltages_discharging, predicted_voltages_lsm_discharging)\n",
    "print(f\"Coefficient of Determination (R²): {r2:.4f}\")"
   ]
  },
  {
   "cell_type": "code",
   "execution_count": null,
   "id": "6e9ac252",
   "metadata": {},
   "outputs": [],
   "source": [
    "plot(discharging_df, predicted_voltages_lsm_discharging, isCharging=False)"
   ]
  },
  {
   "cell_type": "code",
   "execution_count": null,
   "id": "4650045f",
   "metadata": {},
   "outputs": [],
   "source": [
    "# Running GA for charging\n",
    "ga_optimizer = GeneticAlgorithm()\n",
    "ga_optimizer.init_generation(best_params_lsm_charging)\n",
    "best_params_ga = ga_optimizer.optimize(charging_df, C_opt, objective_function, isCharging=True)\n",
    "print(\"Optimized Parameters (GA):\", best_params_ga)"
   ]
  },
  {
   "cell_type": "code",
   "execution_count": null,
   "id": "d327530a",
   "metadata": {},
   "outputs": [],
   "source": [
    "predicted_voltages_ga_charging = battery_model.get_predicted_voltages(charging_df, C_opt, best_params_ga, isCharging=True)"
   ]
  },
  {
   "cell_type": "code",
   "execution_count": null,
   "id": "3f708988",
   "metadata": {},
   "outputs": [],
   "source": [
    "r2 = r2_score(actual_voltages_charging, predicted_voltages_ga_charging)\n",
    "print(f\"Coefficient of Determination (R²): {r2:.4f}\")"
   ]
  },
  {
   "cell_type": "code",
   "execution_count": null,
   "id": "1894420d",
   "metadata": {},
   "outputs": [],
   "source": [
    "plot(charging_df, predicted_voltages_ga_charging, isCharging=True)"
   ]
  },
  {
   "cell_type": "code",
   "execution_count": null,
   "id": "0d306d16",
   "metadata": {},
   "outputs": [],
   "source": [
    "# Running GA for discharging\n",
    "ga_optimizer = GeneticAlgorithm()\n",
    "ga_optimizer.init_generation(best_params_lsm_discharging)\n",
    "best_params_ga_discharging = ga_optimizer.optimize(discharging_df, C_opt, objective_function, isCharging=False)\n",
    "print(\"Optimized Parameters (GA):\", best_params_ga_discharging)"
   ]
  },
  {
   "cell_type": "code",
   "execution_count": null,
   "id": "b7ea68d7",
   "metadata": {},
   "outputs": [],
   "source": [
    "predicted_voltages_ga_discharging = battery_model.get_predicted_voltages(discharging_df, C_opt, best_params_ga_discharging, isCharging=False)"
   ]
  },
  {
   "cell_type": "code",
   "execution_count": null,
   "id": "4476ef32",
   "metadata": {},
   "outputs": [],
   "source": [
    "r2 = r2_score(actual_voltages_discharging, predicted_voltages_ga_discharging)\n",
    "print(f\"Coefficient of Determination (R²): {r2:.4f}\")"
   ]
  },
  {
   "cell_type": "code",
   "execution_count": null,
   "id": "44c50f6d",
   "metadata": {},
   "outputs": [],
   "source": [
    "plot(discharging_df, predicted_voltages_ga_discharging, isCharging=False)"
   ]
  }
 ],
 "metadata": {
  "kernelspec": {
   "display_name": "Python 3",
   "language": "python",
   "name": "python3"
  },
  "language_info": {
   "codemirror_mode": {
    "name": "ipython",
    "version": 3
   },
   "file_extension": ".py",
   "mimetype": "text/x-python",
   "name": "python",
   "nbconvert_exporter": "python",
   "pygments_lexer": "ipython3",
   "version": "3.13.3"
  }
 },
 "nbformat": 4,
 "nbformat_minor": 5
}
